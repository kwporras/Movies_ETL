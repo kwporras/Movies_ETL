{
 "cells": [
  {
   "cell_type": "code",
   "execution_count": null,
   "id": "993446c5",
   "metadata": {},
   "outputs": [],
   "source": [
    "import json\n",
    "import pandas as pd\n",
    "import numpy as np\n",
    "import re"
   ]
  },
  {
   "cell_type": "code",
   "execution_count": null,
   "id": "c15eb5d7",
   "metadata": {},
   "outputs": [],
   "source": [
    "file_dir = 'C:\\\\Users\\keyto\\git\\Modules\\Module 8\\Movies_ETL'"
   ]
  },
  {
   "cell_type": "code",
   "execution_count": null,
   "id": "ba10763c",
   "metadata": {},
   "outputs": [],
   "source": [
    "f'{file_dir}filename'"
   ]
  },
  {
   "cell_type": "code",
   "execution_count": null,
   "id": "eb6fb28a",
   "metadata": {},
   "outputs": [],
   "source": [
    "with open(f'{file_dir}/wikipedia-movies.json', mode='r') as file:\n",
    "    wiki_movies_raw = json.load(file)"
   ]
  },
  {
   "cell_type": "code",
   "execution_count": null,
   "id": "5f634a07",
   "metadata": {},
   "outputs": [],
   "source": [
    "len(wiki_movies_raw)"
   ]
  },
  {
   "cell_type": "code",
   "execution_count": null,
   "id": "c6f1abc0",
   "metadata": {},
   "outputs": [],
   "source": [
    "# First 5 records\n",
    "wiki_movies_raw[:5]"
   ]
  },
  {
   "cell_type": "code",
   "execution_count": null,
   "id": "259d7335",
   "metadata": {},
   "outputs": [],
   "source": [
    "# Last 5 records\n",
    "wiki_movies_raw[-5:]"
   ]
  },
  {
   "cell_type": "code",
   "execution_count": null,
   "id": "a8ac8b93",
   "metadata": {},
   "outputs": [],
   "source": [
    "# Some records in the middle\n",
    "wiki_movies_raw[3600:3605]"
   ]
  },
  {
   "cell_type": "code",
   "execution_count": null,
   "id": "d4bceb60",
   "metadata": {},
   "outputs": [],
   "source": [
    "kaggle_metadata = pd.read_csv(f'{file_dir}\\\\movies_metadata.csv', low_memory=False)\n",
    "ratings = pd.read_csv(f'{file_dir}\\\\ratings.csv')"
   ]
  },
  {
   "cell_type": "code",
   "execution_count": null,
   "id": "0c2e53c4",
   "metadata": {},
   "outputs": [],
   "source": [
    "kaggle_metadata.head()"
   ]
  },
  {
   "cell_type": "code",
   "execution_count": null,
   "id": "c8557660",
   "metadata": {},
   "outputs": [],
   "source": [
    "ratings.head()"
   ]
  },
  {
   "cell_type": "code",
   "execution_count": null,
   "id": "04d4b088",
   "metadata": {},
   "outputs": [],
   "source": [
    "kaggle_metadata.sample(n=5)"
   ]
  },
  {
   "cell_type": "code",
   "execution_count": null,
   "id": "c7f26e0a",
   "metadata": {},
   "outputs": [],
   "source": [
    "ratings.sample(n=5)"
   ]
  },
  {
   "cell_type": "code",
   "execution_count": null,
   "id": "e31c4583",
   "metadata": {},
   "outputs": [],
   "source": [
    "# [Inspect]\n",
    "# --- Begin Initial Investigation --- \n",
    "wiki_movies_df = pd.DataFrame(wiki_movies_raw)"
   ]
  },
  {
   "cell_type": "code",
   "execution_count": null,
   "id": "6b24fd1a",
   "metadata": {},
   "outputs": [],
   "source": [
    "# Review top\n",
    "wiki_movies_df.head()"
   ]
  },
  {
   "cell_type": "code",
   "execution_count": null,
   "id": "580e2bf2",
   "metadata": {},
   "outputs": [],
   "source": [
    "# Review list of column names\n",
    "wiki_movies_df.columns.tolist()"
   ]
  },
  {
   "cell_type": "code",
   "execution_count": null,
   "id": "80eaeece",
   "metadata": {},
   "outputs": [],
   "source": [
    "# [Plan]\n",
    "# We can identify column names that don't relate to movie data,\n",
    "# such as \"Dewey Decimal,\" \"Headquarters,\" and \"Number of employees.\"\n",
    "# (There may be other examples that jumped out at you as well.)\n",
    "# Let's modify our JSON data by restricting it to only those entries\n",
    "# that have a director and an IMDb link.\n",
    "# We can do this with a list comprehension.\n",
    "\n",
    "# We've used list comprehensions previously as a compact way to apply\n",
    "# a function to every element in a list. \n",
    "\n",
    "# So far, we've used list comprehensions in the form to compress code\n",
    "# that would have been done in a for loop.\n",
    "\n",
    "# [expression for element in source_list]\n",
    "\n",
    "# We can also filter out results using a conditional filter expression,\n",
    "# as shown below:\n",
    "\n",
    "# [expression for element in source_list if filter_expression]\n",
    "\n",
    "# The resulting list will only have elements where the filter expression\n",
    "# evaluates to True."
   ]
  },
  {
   "cell_type": "code",
   "execution_count": null,
   "id": "3558f8d8",
   "metadata": {},
   "outputs": [],
   "source": [
    "# [Plan]\n",
    "# To create a filter expression for only movies with a director and an \n",
    "# IMDb link, keep in mind that there are two columns in the data for \n",
    "# director information. We'll need to check if either \"Director\" or\n",
    "# \"Directed by\" are keys in the current dict. If there is a director listed,\n",
    "# we also want to check that the dict has an IMDb link.\n",
    "# Luckily, that information is only in one column, imdb_link,\n",
    "# so our filter expression will look like the following:\n",
    "\n",
    "# if ('Director' in movie or 'Directed by' in movie) and 'imdb_link' in movie"
   ]
  },
  {
   "cell_type": "code",
   "execution_count": null,
   "id": "b3e2af09",
   "metadata": {},
   "outputs": [],
   "source": [
    "# [Execute]\n",
    "# Create a list comprehension with the filter expression we created\n",
    "# and save that to an intermediate variable wiki_movies.\n",
    "# See how many movies are in wiki_movies with the len() function."
   ]
  },
  {
   "cell_type": "code",
   "execution_count": null,
   "id": "5dc4337c",
   "metadata": {},
   "outputs": [],
   "source": [
    "# Use List Comprehenshio to Filter Data\n",
    "wiki_movies = [movie for movie in wiki_movies_raw\n",
    "               if ('Director' in movie or 'Directed by' in movie)\n",
    "                   and 'imdb_link' in movie]\n",
    "len(wiki_movies)"
   ]
  },
  {
   "cell_type": "code",
   "execution_count": null,
   "id": "fe63688f",
   "metadata": {},
   "outputs": [],
   "source": [
    "# [Inspect]\n",
    "# 78 columns are still a lot of columns, so let's keep investigating.\n",
    "wiki_movies_df = pd.DataFrame(wiki_movies)\n",
    "wiki_movies_df"
   ]
  },
  {
   "cell_type": "code",
   "execution_count": null,
   "id": "a56b9425",
   "metadata": {},
   "outputs": [],
   "source": [
    "# [Inspect]\n",
    "# There sure are a lot of languages—we'll get to those shortly. \n",
    "# For now, one of the columns that stands out is \"No. of episodes.\"\n",
    "\n",
    "# [Plan]\n",
    "# It looks like we've got some TV shows in our data instead of movies.\n",
    "# We'll want to get rid of those, too.\n",
    "\n",
    "#[Execute]\n",
    "# We'll add that filter to our list comprehension."
   ]
  },
  {
   "cell_type": "code",
   "execution_count": null,
   "id": "6efe2244",
   "metadata": {},
   "outputs": [],
   "source": [
    "#[Execute]\n",
    "# Add filter to our list comprehension.\n",
    "wiki_movies = [movie for movie in wiki_movies_raw\n",
    "               if ('Director' in movie or 'Directed by' in movie)\n",
    "                   and 'imdb_link' in movie\n",
    "                   and 'No. of episodes' not in movie]"
   ]
  },
  {
   "cell_type": "code",
   "execution_count": null,
   "id": "97e6ec24",
   "metadata": {},
   "outputs": [],
   "source": [
    "# Beginning of Module 8.3.4\n",
    "\n",
    "#Call the function clean_movie and have it take movie as a parameter\n",
    "def clean_movie(movie):\n",
    "    \n",
    "    # Because the movies are dicts and we want to make nondestructive edits, make a copy of the incoming movie.\n",
    "    # To make a copy of movie, we'll use the dict() constructor.\n",
    "    # Constructors are special functions that initialize new objects.\n",
    "    # They reserve space in memory for the object and perform any initializations the object requires.\n",
    "    # Also, constructors can take parameters and initialize a new object using those parameters.\n",
    "    # movie_copy = dict(movie)\n",
    "    # However, we have another trick that's even better.\n",
    "    # Inside of the function, we can create a new local variable called movie and assign it the new copy of the parameter movie.\n",
    "    movie = dict(movie) #create a non-destructive copy\n",
    "    \n",
    "    #To finish our skeleton of the clean_movie function, return the movie variable.\n",
    "    return movie"
   ]
  },
  {
   "cell_type": "code",
   "execution_count": null,
   "id": "30bc662e",
   "metadata": {},
   "outputs": [],
   "source": [
    "wiki_movies_df[wiki_movies_df['Arabic'].notnull()]"
   ]
  },
  {
   "cell_type": "code",
   "execution_count": null,
   "id": "190158ce",
   "metadata": {},
   "outputs": [],
   "source": [
    "wiki_movies_df[wiki_movies_df['Arabic'].notnull()]['url']"
   ]
  },
  {
   "cell_type": "code",
   "execution_count": null,
   "id": "a08d55f1",
   "metadata": {},
   "outputs": [],
   "source": [
    "sorted(wiki_movies_df.columns.tolist())"
   ]
  },
  {
   "cell_type": "code",
   "execution_count": null,
   "id": "9b719c7b",
   "metadata": {},
   "outputs": [],
   "source": [
    "#Call the function clean_movie and have it take movie as a parameter\n",
    "def clean_movie(movie):\n",
    "    \n",
    "    # Because the movies are dicts and we want to make nondestructive edits, make a copy of the incoming movie.\n",
    "    # To make a copy of movie, we'll use the dict() constructor.\n",
    "    # Constructors are special functions that initialize new objects.\n",
    "    # They reserve space in memory for the object and perform any initializations the object requires.\n",
    "    # Also, constructors can take parameters and initialize a new object using those parameters.\n",
    "    # movie_copy = dict(movie)\n",
    "    # However, we have another trick that's even better.\n",
    "    # Inside of the function, we can create a new local variable called movie and assign it the new copy of the parameter movie.\n",
    "    \n",
    "    #create a non-destructive copy\n",
    "    movie = dict(movie) \n",
    "    \n",
    "    # make empty dict to hold all of the alternative titles.\n",
    "    alt_titles = {} \n",
    "    \n",
    "    # Loop through a list of all alternative title keys\n",
    "    for key in ['Also known as','Arabic','Cantonese','Chinese','French',\n",
    "                'Hangul','Hebrew','Hepburn','Japanese','Literally',\n",
    "                'Mandarin','McCune–Reischauer','Original title','Polish',\n",
    "                'Revised Romanization','Romanized','Russian',\n",
    "                'Simplified','Traditional','Yiddish']:\n",
    "        \n",
    "        # Check if the current key exists in the movie object.\n",
    "        if key in movie:\n",
    "            \n",
    "            # If so, remove the key-value pair and add to the alternative titles dictionary.\n",
    "            alt_titles[key] = movie[key]\n",
    "            movie.pop(key)  \n",
    "            \n",
    "    # After looping through every key, add the alternative titles dict to the movie object.\n",
    "    if len(alt_titles) > 0:\n",
    "        movie['alt_titles'] = alt_titles\n",
    "            \n",
    "    #To finish our skeleton of the clean_movie function, return the movie variable.\n",
    "    return movie\n",
    "\n"
   ]
  },
  {
   "cell_type": "code",
   "execution_count": null,
   "id": "d280e47b",
   "metadata": {},
   "outputs": [],
   "source": [
    "# Make a list of cleaned movies with a list comprehension:\n",
    "clean_movies = [clean_movie(movie) for movie in wiki_movies]"
   ]
  },
  {
   "cell_type": "code",
   "execution_count": null,
   "id": "876f4bda",
   "metadata": {},
   "outputs": [],
   "source": [
    "# Set wiki_movies_df to be the DataFrame created from clean_movies, and print out a list of columns.\n",
    "wiki_movies_df = pd.DataFrame(clean_movies)\n",
    "sorted(wiki_movies_df.columns.tolist())"
   ]
  },
  {
   "cell_type": "code",
   "execution_count": null,
   "id": "5225745c",
   "metadata": {},
   "outputs": [],
   "source": [
    "#Call the function clean_movie and have it take movie as a parameter\n",
    "def clean_movie(movie):\n",
    "    \n",
    "    # Because the movies are dicts and we want to make nondestructive edits, make a copy of the incoming movie.\n",
    "    # To make a copy of movie, we'll use the dict() constructor.\n",
    "    # Constructors are special functions that initialize new objects.\n",
    "    # They reserve space in memory for the object and perform any initializations the object requires.\n",
    "    # Also, constructors can take parameters and initialize a new object using those parameters.\n",
    "    # movie_copy = dict(movie)\n",
    "    # However, we have another trick that's even better.\n",
    "    # Inside of the function, we can create a new local variable called movie and assign it the new copy of the parameter movie.\n",
    "    \n",
    "    #create a non-destructive copy\n",
    "    movie = dict(movie) \n",
    "    \n",
    "    # make empty dict to hold all of the alternative titles.\n",
    "    alt_titles = {} \n",
    "    \n",
    "    # Loop through a list of all alternative title keys\n",
    "    for key in ['Also known as','Arabic','Cantonese','Chinese','French',\n",
    "                'Hangul','Hebrew','Hepburn','Japanese','Literally',\n",
    "                'Mandarin','McCune–Reischauer','Original title','Polish',\n",
    "                'Revised Romanization','Romanized','Russian',\n",
    "                'Simplified','Traditional','Yiddish']:\n",
    "        \n",
    "        # Check if the current key exists in the movie object.\n",
    "        if key in movie:\n",
    "            \n",
    "            # If so, remove the key-value pair and add to the alternative titles dictionary.\n",
    "            alt_titles[key] = movie[key]\n",
    "            movie.pop(key)  \n",
    "            \n",
    "    # After looping through every key, add the alternative titles dict to the movie object.\n",
    "    if len(alt_titles) > 0:\n",
    "        movie['alt_titles'] = alt_titles\n",
    "    \n",
    "    # merge column names\n",
    "    def change_column_name(old_name, new_name):\n",
    "        if old_name in movie:\n",
    "            movie[new_name] = movie.pop(old_name)\n",
    "    change_column_name('Adaptation by', 'Writer(s)')\n",
    "    change_column_name('Country of origin', 'Country')\n",
    "    change_column_name('Directed by', 'Director')\n",
    "    change_column_name('Distributed by', 'Distributor')\n",
    "    change_column_name('Edited by', 'Editor(s)')\n",
    "    change_column_name('Length', 'Running time')\n",
    "    change_column_name('Original release', 'Release date')\n",
    "    change_column_name('Music by', 'Composer(s)')\n",
    "    change_column_name('Produced by', 'Producer(s)')\n",
    "    change_column_name('Producer', 'Producer(s)')\n",
    "    change_column_name('Productioncompanies ', 'Production company(s)')\n",
    "    change_column_name('Productioncompany ', 'Production company(s)')\n",
    "    change_column_name('Released', 'Release Date')\n",
    "    change_column_name('Release Date', 'Release date')\n",
    "    change_column_name('Screen story by', 'Writer(s)')\n",
    "    change_column_name('Screenplay by', 'Writer(s)')\n",
    "    change_column_name('Story by', 'Writer(s)')\n",
    "    change_column_name('Theme music composer', 'Composer(s)')\n",
    "    change_column_name('Written by', 'Writer(s)')\n",
    "               \n",
    "    #To finish our skeleton of the clean_movie function, return the movie variable.\n",
    "    return movie\n",
    "\n"
   ]
  },
  {
   "cell_type": "code",
   "execution_count": null,
   "id": "31da52ba",
   "metadata": {},
   "outputs": [],
   "source": [
    "clean_movies = [clean_movie(movie) for movie in wiki_movies]\n",
    "wiki_movies_df = pd.DataFrame(clean_movies)\n",
    "sorted(wiki_movies_df.columns.tolist())"
   ]
  },
  {
   "cell_type": "code",
   "execution_count": null,
   "id": "8f3fa2dd",
   "metadata": {},
   "outputs": [],
   "source": [
    "# \"(tt\\d{7})\" — The parentheses marks say to look for one group of text.\n",
    "# \"(tt\\d{7})\" — The \"tt\" in the string simply says to match two lowercase Ts.\n",
    "# \"(tt\\d{7})\" — The \"\\d\" says to match a numerical digit.\n",
    "# \"(tt\\d{7})\" — The \"{7}\" says to match the last thing (numerical digits) exactly seven times."
   ]
  },
  {
   "cell_type": "code",
   "execution_count": null,
   "id": "98c304eb",
   "metadata": {},
   "outputs": [],
   "source": [
    "# Code to extract the IMBd ID \n",
    "wiki_movies_df['imdb_id'] = wiki_movies_df['imdb_link'].str.extract(r'(tt\\d{7})')"
   ]
  },
  {
   "cell_type": "code",
   "execution_count": null,
   "id": "d4e2b6a4",
   "metadata": {},
   "outputs": [],
   "source": [
    "# Now we can drop any duplicates of IMDb IDs by using the drop_dupilcates() method.\n",
    "# To specify that we only want to consider the IMBd ID, use the subset argument,\n",
    "# and set inplace equal to True so that the operation is performed on the slected dataframe.\n",
    "# Otherwise, the operation would return an edited dataframe that would need to be saved to a new variable.\n",
    "# We also want to see the new number of rows and how many rows were dropped.\n",
    "\n",
    "wiki_movies_df['imdb_id'] = wiki_movies_df['imdb_link'].str.extract(r'(tt\\d{7})')\n",
    "print(len(wiki_movies_df))\n",
    "wiki_movies_df.drop_duplicates(subset='imdb_id', inplace=True)\n",
    "print(len(wiki_movies_df))\n",
    "wiki_movies_df.head()"
   ]
  },
  {
   "cell_type": "code",
   "execution_count": null,
   "id": "8e31602a",
   "metadata": {},
   "outputs": [],
   "source": [
    "# Get the count of null values for each column by using list comprehension\n",
    "# Could also use a for loop and a print statement\n",
    "[[column,wiki_movies_df[column].isnull().sum()] for column in wiki_movies_df.columns]"
   ]
  },
  {
   "cell_type": "code",
   "execution_count": null,
   "id": "b671bd04",
   "metadata": {},
   "outputs": [],
   "source": [
    "# Make a list of columns that have less than 90% null values and use those to trim down our dataset.\n",
    "[column for column in wiki_movies_df.columns if wiki_movies_df[column].isnull().sum() < len(wiki_movies_df) * 0.9]"
   ]
  },
  {
   "cell_type": "code",
   "execution_count": null,
   "id": "387a65fb",
   "metadata": {},
   "outputs": [],
   "source": [
    "# The above gave us the columns that we want to keep, whcih we can select from out Pandas Dataframe as follows:\n",
    "wiki_columns_to_keep = [column for column in wiki_movies_df.columns if wiki_movies_df[column].isnull().sum() < len(wiki_movies_df) * 0.9]\n",
    "wiki_movies_df = wiki_movies_df[wiki_columns_to_keep]"
   ]
  },
  {
   "cell_type": "code",
   "execution_count": null,
   "id": "b0f68bc7",
   "metadata": {},
   "outputs": [],
   "source": [
    "# You may have noticed that the \"alt_titles\" column we created earlier was deleted by this bit of code.\n",
    "# It might feel like all that work we did was futile, but it's not.\n",
    "# It's possible that all of the alternate title columns individually had less than 10% non-null values,\n",
    "# but collectively had enough data to keep. We wouldn't know that unless we put in that work.\n",
    "# This is normal for data cleaning because it's an iterative process.\n",
    "# Sometimes the hard work you put in doesn't seem to make it to the final product, but don't worry, it's in there."
   ]
  },
  {
   "cell_type": "code",
   "execution_count": null,
   "id": "78d889a0",
   "metadata": {},
   "outputs": [],
   "source": [
    "# Identify which columns need to be converted\n",
    "wiki_movies_df.dtypes"
   ]
  },
  {
   "cell_type": "code",
   "execution_count": null,
   "id": "53125dc1",
   "metadata": {},
   "outputs": [],
   "source": [
    "box_office = wiki_movies_df['Box office'].dropna()"
   ]
  },
  {
   "cell_type": "code",
   "execution_count": null,
   "id": "f9c61b1c",
   "metadata": {},
   "outputs": [],
   "source": [
    "# Regular expressions only work on strings, so we'll need to make sure all of the box office data is entered as a string.\n",
    "# By using the map() method, we can see which values are not strings.\n",
    "# First, make a is_not_a_string() function: \n",
    "\n",
    "def is_not_a_string(x):\n",
    "    return type(x) != str\n",
    "\n",
    "box_office[box_office.map(is_not_a_string)]"
   ]
  },
  {
   "cell_type": "code",
   "execution_count": null,
   "id": "8628d744",
   "metadata": {},
   "outputs": [],
   "source": [
    "# Having to create a new function every time we want to use the map() method is cumbersome\n",
    "# and interrupts the readability of our code. What we want is a stripped-down, one-line way of writing our functions.\n",
    "# Also, we don't need to use it ever again outside of our map() call, so we don't need to give it a name.\n",
    "# If you think we're talking about types of functions that will work here, you're right."
   ]
  },
  {
   "cell_type": "code",
   "execution_count": null,
   "id": "e7d2d5d3",
   "metadata": {},
   "outputs": [],
   "source": [
    "# Remember, this is what lambda functions are made for.\n",
    "# Instead of creating a new function with a block of code and the def keyword,\n",
    "# we can create an anonymous lambda function right inside the map() call.\n",
    "# They use the following syntax:\n",
    "# lambda arguments: expression"
   ]
  },
  {
   "cell_type": "code",
   "execution_count": null,
   "id": "07f224d8",
   "metadata": {},
   "outputs": [],
   "source": [
    "# So the lambda function version of is_not_a_string() is:\n",
    "# lambda x: type(x) != str"
   ]
  },
  {
   "cell_type": "code",
   "execution_count": null,
   "id": "609bbd61",
   "metadata": {},
   "outputs": [],
   "source": [
    "# We can update our map() call to use the lambda function directly instead of using is_not_a_string():"
   ]
  },
  {
   "cell_type": "code",
   "execution_count": null,
   "id": "80f7cee4",
   "metadata": {},
   "outputs": [],
   "source": [
    "box_office[box_office.map(lambda x: type(x) != str)]"
   ]
  },
  {
   "cell_type": "code",
   "execution_count": null,
   "id": "753f5819",
   "metadata": {},
   "outputs": [],
   "source": [
    "# From the output, we can see that there are quite a few data points that are stored as lists.\n",
    "# There is a join() string method that concatenates list items into one string;\n",
    "# however, we can't just type join(some_list) because the join() method belongs to string objects.\n",
    "# We need to make a separator string and then call the join() method on it. For example, the code would be:\n",
    "\n",
    "# some_list = ['One','Two','Three']\n",
    "# 'Mississippi'.join(some_list)\n",
    "\n",
    "# The outputs would be:\n",
    "# 'OneMississippiTwoMississippiThree'\n",
    "\n",
    "# We'll use a simple space as our joining character and apply the join()\n",
    "# function only when our data points are lists.\n",
    "# The code looks like the following:\n",
    "\n",
    "# box_office = box_office.apply(lambda x: ' '.join(x) if type(x) == list else x)"
   ]
  },
  {
   "cell_type": "code",
   "execution_count": null,
   "id": "f7ef37d9",
   "metadata": {},
   "outputs": [],
   "source": [
    "# There is a built-in Python module for regular expressions: re.\n",
    "# We'll need to import that library, so add the line below to the first cell,\n",
    "# with the other import statements, and rerun the cell.\n",
    "\n",
    "import re"
   ]
  },
  {
   "cell_type": "code",
   "execution_count": null,
   "id": "afce0181",
   "metadata": {},
   "outputs": [],
   "source": [
    "# Module 8.3.9"
   ]
  }
 ],
 "metadata": {
  "kernelspec": {
   "display_name": "Python 3",
   "language": "python",
   "name": "python3"
  },
  "language_info": {
   "codemirror_mode": {
    "name": "ipython",
    "version": 3
   },
   "file_extension": ".py",
   "mimetype": "text/x-python",
   "name": "python",
   "nbconvert_exporter": "python",
   "pygments_lexer": "ipython3",
   "version": "3.8.8"
  }
 },
 "nbformat": 4,
 "nbformat_minor": 5
}
